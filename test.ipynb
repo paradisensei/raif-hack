{
 "cells": [
  {
   "cell_type": "code",
   "execution_count": 118,
   "metadata": {},
   "outputs": [
    {
     "data": {
      "text/plain": [
       "<module 'backend.data_handling' from 'C:\\\\Users\\\\Ivan\\\\Documents\\\\DS projects\\\\RaifHack 2020\\\\dev\\\\backend\\\\data_handling.py'>"
      ]
     },
     "execution_count": 118,
     "metadata": {},
     "output_type": "execute_result"
    },
    {
     "data": {
      "text/plain": [
       "<module 'backend.metrics' from 'C:\\\\Users\\\\Ivan\\\\Documents\\\\DS projects\\\\RaifHack 2020\\\\dev\\\\backend\\\\metrics.py'>"
      ]
     },
     "execution_count": 118,
     "metadata": {},
     "output_type": "execute_result"
    },
    {
     "data": {
      "text/plain": [
       "<module 'backend.metric_buttons' from 'C:\\\\Users\\\\Ivan\\\\Documents\\\\DS projects\\\\RaifHack 2020\\\\dev\\\\backend\\\\metric_buttons.py'>"
      ]
     },
     "execution_count": 118,
     "metadata": {},
     "output_type": "execute_result"
    }
   ],
   "source": [
    "from IPython.core.interactiveshell import InteractiveShell\n",
    "InteractiveShell.ast_node_interactivity = 'all'\n",
    "\n",
    "import numpy as np\n",
    "import pandas as pd\n",
    "import sys, os, random, re, datetime, string\n",
    "from imp import reload\n",
    "\n",
    "sys.path.append('.')\n",
    "from backend import data_handling; reload(data_handling);\n",
    "from backend import metrics; reload(metrics);\n",
    "from backend import metric_buttons; reload(metric_buttons);\n",
    "\n",
    "PATH_TO_LOADER_CONFIG = 'in/data_loader_config.txt'\n",
    "\n",
    "PATH_TO_MCC_COLUMNS = 'in/mcc_file_columns.txt'\n",
    "PATH_TO_STORES_COLUMNS = 'in/stores_file_columns.txt'\n",
    "PATH_TO_TRANSACTIONS_COLUMNS = 'in/transactions_file_columns.txt'\n",
    "PATH_TO_CLIENTS_COLUMNS = 'in/clients_file_columns.txt'\n",
    "PATH_TO_CLIENT_CATEGORIES_COLUMNS = 'in/client_categories_file_columns.txt'\n",
    "PATH_TO_CLIENT_INTERNET_DATA_COLUMNS = 'in/client_internet_data_file_columns.txt'\n",
    "\n",
    "PATH_TO_MCC_FILE = 'data/mcc.csv'\n",
    "PATH_TO_STORES_FILE = 'data/stores.csv'\n",
    "PATH_TO_TRANSACTIONS_FILE = 'data/transactions.csv'\n",
    "PATH_TO_CLIENTS_FILE = 'data/clients.csv'\n",
    "PATH_TO_CLIENT_CATEGORIES_FILE = 'data/client_categories.csv'\n",
    "PATH_TO_CLIENT_INTERNET_DATA_FILE = 'data/client_internet_data.csv'"
   ]
  },
  {
   "cell_type": "code",
   "execution_count": 119,
   "metadata": {},
   "outputs": [
    {
     "data": {
      "text/html": [
       "<div>\n",
       "<style scoped>\n",
       "    .dataframe tbody tr th:only-of-type {\n",
       "        vertical-align: middle;\n",
       "    }\n",
       "\n",
       "    .dataframe tbody tr th {\n",
       "        vertical-align: top;\n",
       "    }\n",
       "\n",
       "    .dataframe thead th {\n",
       "        text-align: right;\n",
       "    }\n",
       "</style>\n",
       "<table border=\"1\" class=\"dataframe\">\n",
       "  <thead>\n",
       "    <tr style=\"text-align: right;\">\n",
       "      <th></th>\n",
       "      <th>mean</th>\n",
       "    </tr>\n",
       "    <tr>\n",
       "      <th>Age</th>\n",
       "      <th></th>\n",
       "    </tr>\n",
       "  </thead>\n",
       "  <tbody>\n",
       "    <tr>\n",
       "      <th>1</th>\n",
       "      <td>5.806157</td>\n",
       "    </tr>\n",
       "    <tr>\n",
       "      <th>2</th>\n",
       "      <td>7.103568</td>\n",
       "    </tr>\n",
       "    <tr>\n",
       "      <th>3</th>\n",
       "      <td>10.340824</td>\n",
       "    </tr>\n",
       "    <tr>\n",
       "      <th>4</th>\n",
       "      <td>9.377420</td>\n",
       "    </tr>\n",
       "    <tr>\n",
       "      <th>5</th>\n",
       "      <td>10.019607</td>\n",
       "    </tr>\n",
       "    <tr>\n",
       "      <th>7</th>\n",
       "      <td>10.326733</td>\n",
       "    </tr>\n",
       "  </tbody>\n",
       "</table>\n",
       "</div>"
      ],
      "text/plain": [
       "          mean\n",
       "Age           \n",
       "1     5.806157\n",
       "2     7.103568\n",
       "3    10.340824\n",
       "4     9.377420\n",
       "5    10.019607\n",
       "7    10.326733"
      ]
     },
     "execution_count": 119,
     "metadata": {},
     "output_type": "execute_result"
    },
    {
     "data": {
      "text/plain": [
       "8.75044290680415"
      ]
     },
     "execution_count": 119,
     "metadata": {},
     "output_type": "execute_result"
    },
    {
     "data": {
      "text/plain": [
       "1.25"
      ]
     },
     "execution_count": 119,
     "metadata": {},
     "output_type": "execute_result"
    },
    {
     "data": {
      "text/plain": [
       "CNUM\n",
       "1      7.574164\n",
       "2      1.336035\n",
       "3      4.868831\n",
       "4      5.806157\n",
       "7     10.326733\n",
       "8     10.340824\n",
       "9      9.698390\n",
       "10     9.377420\n",
       "Name: Amount, dtype: float64"
      ]
     },
     "execution_count": 119,
     "metadata": {},
     "output_type": "execute_result"
    },
    {
     "data": {
      "text/plain": [
       "1.0"
      ]
     },
     "execution_count": 119,
     "metadata": {},
     "output_type": "execute_result"
    },
    {
     "data": {
      "text/html": [
       "<div>\n",
       "<style scoped>\n",
       "    .dataframe tbody tr th:only-of-type {\n",
       "        vertical-align: middle;\n",
       "    }\n",
       "\n",
       "    .dataframe tbody tr th {\n",
       "        vertical-align: top;\n",
       "    }\n",
       "\n",
       "    .dataframe thead th {\n",
       "        text-align: right;\n",
       "    }\n",
       "</style>\n",
       "<table border=\"1\" class=\"dataframe\">\n",
       "  <thead>\n",
       "    <tr style=\"text-align: right;\">\n",
       "      <th></th>\n",
       "      <th>sum</th>\n",
       "    </tr>\n",
       "    <tr>\n",
       "      <th>Gender</th>\n",
       "      <th></th>\n",
       "    </tr>\n",
       "  </thead>\n",
       "  <tbody>\n",
       "    <tr>\n",
       "      <th>F</th>\n",
       "      <td>9.377420</td>\n",
       "    </tr>\n",
       "    <tr>\n",
       "      <th>G</th>\n",
       "      <td>11.612315</td>\n",
       "    </tr>\n",
       "    <tr>\n",
       "      <th>K</th>\n",
       "      <td>10.340824</td>\n",
       "    </tr>\n",
       "    <tr>\n",
       "      <th>N</th>\n",
       "      <td>11.612315</td>\n",
       "    </tr>\n",
       "    <tr>\n",
       "      <th>O</th>\n",
       "      <td>9.698390</td>\n",
       "    </tr>\n",
       "    <tr>\n",
       "      <th>R</th>\n",
       "      <td>9.698390</td>\n",
       "    </tr>\n",
       "    <tr>\n",
       "      <th>S</th>\n",
       "      <td>10.340824</td>\n",
       "    </tr>\n",
       "    <tr>\n",
       "      <th>t</th>\n",
       "      <td>10.326733</td>\n",
       "    </tr>\n",
       "  </tbody>\n",
       "</table>\n",
       "</div>"
      ],
      "text/plain": [
       "              sum\n",
       "Gender           \n",
       "F        9.377420\n",
       "G       11.612315\n",
       "K       10.340824\n",
       "N       11.612315\n",
       "O        9.698390\n",
       "R        9.698390\n",
       "S       10.340824\n",
       "t       10.326733"
      ]
     },
     "execution_count": 119,
     "metadata": {},
     "output_type": "execute_result"
    },
    {
     "data": {
      "text/plain": [
       "nan"
      ]
     },
     "execution_count": 119,
     "metadata": {},
     "output_type": "execute_result"
    },
    {
     "data": {
      "text/plain": [
       "6"
      ]
     },
     "execution_count": 119,
     "metadata": {},
     "output_type": "execute_result"
    },
    {
     "data": {
      "text/plain": [
       "0.0"
      ]
     },
     "execution_count": 119,
     "metadata": {},
     "output_type": "execute_result"
    },
    {
     "data": {
      "text/plain": [
       "0.0"
      ]
     },
     "execution_count": 119,
     "metadata": {},
     "output_type": "execute_result"
    }
   ],
   "source": [
    "metric_buttons.button_Age()\n",
    "metric_buttons.button_AverageBill()\n",
    "metric_buttons.button_AverageTransactionNumber()\n",
    "metric_buttons.button_ClientAverageBill()\n",
    "metric_buttons.button_ClientNumberInSegmentRate('x', ['z','c','n'])\n",
    "metric_buttons.button_Gender()\n",
    "metric_buttons.button_IncomeInSegmentRate('x', ['z','c','n'])\n",
    "metric_buttons.button_NewClientTransactions()\n",
    "metric_buttons.button_Revenue()\n",
    "metric_buttons.button_Revenue('x')"
   ]
  },
  {
   "cell_type": "code",
   "execution_count": null,
   "metadata": {},
   "outputs": [],
   "source": []
  },
  {
   "cell_type": "code",
   "execution_count": null,
   "metadata": {},
   "outputs": [],
   "source": []
  },
  {
   "cell_type": "code",
   "execution_count": null,
   "metadata": {},
   "outputs": [],
   "source": []
  }
 ],
 "metadata": {
  "kernelspec": {
   "display_name": "Python 3",
   "language": "python",
   "name": "python3"
  },
  "language_info": {
   "codemirror_mode": {
    "name": "ipython",
    "version": 3
   },
   "file_extension": ".py",
   "mimetype": "text/x-python",
   "name": "python",
   "nbconvert_exporter": "python",
   "pygments_lexer": "ipython3",
   "version": "3.7.1"
  }
 },
 "nbformat": 4,
 "nbformat_minor": 2
}
